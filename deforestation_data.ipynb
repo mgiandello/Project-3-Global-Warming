{
 "cells": [
  {
   "cell_type": "code",
   "execution_count": null,
   "id": "2f14c868",
   "metadata": {},
   "outputs": [],
   "source": [
    "# importing dependencies\n",
    "\n",
    "import pandas as pd\n",
    "import "
   ]
  },
  {
   "cell_type": "code",
   "execution_count": null,
   "id": "83dfd466",
   "metadata": {},
   "outputs": [],
   "source": [
    "# creating paths for the csv files"
   ]
  },
  {
   "cell_type": "code",
   "execution_count": null,
   "id": "aba1aea4",
   "metadata": {},
   "outputs": [],
   "source": []
  }
 ],
 "metadata": {
  "kernelspec": {
   "display_name": "Python 3",
   "language": "python",
   "name": "python3"
  },
  "language_info": {
   "codemirror_mode": {
    "name": "ipython",
    "version": 3
   },
   "file_extension": ".py",
   "mimetype": "text/x-python",
   "name": "python",
   "nbconvert_exporter": "python",
   "pygments_lexer": "ipython3",
   "version": "3.8.8"
  }
 },
 "nbformat": 4,
 "nbformat_minor": 5
}
