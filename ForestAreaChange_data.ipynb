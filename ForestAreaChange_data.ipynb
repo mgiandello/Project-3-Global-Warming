{
 "cells": [
  {
   "cell_type": "code",
   "execution_count": 1,
   "id": "2f14c868",
   "metadata": {},
   "outputs": [],
   "source": [
    "# importing dependencies\n",
    "\n",
    "import pandas as pd\n",
    "import numpy as np\n",
    "import sqlalchemy\n",
    "from sqlalchemy.ext.automap import automap_base\n",
    "from sqlalchemy.orm import Session\n",
    "from sqlalchemy import create_engine\n",
    "from sqlalchemy import func"
   ]
  },
  {
   "cell_type": "code",
   "execution_count": 2,
   "id": "83dfd466",
   "metadata": {},
   "outputs": [
    {
     "data": {
      "text/html": [
       "<div>\n",
       "<style scoped>\n",
       "    .dataframe tbody tr th:only-of-type {\n",
       "        vertical-align: middle;\n",
       "    }\n",
       "\n",
       "    .dataframe tbody tr th {\n",
       "        vertical-align: top;\n",
       "    }\n",
       "\n",
       "    .dataframe thead th {\n",
       "        text-align: right;\n",
       "    }\n",
       "</style>\n",
       "<table border=\"1\" class=\"dataframe\">\n",
       "  <thead>\n",
       "    <tr style=\"text-align: right;\">\n",
       "      <th></th>\n",
       "      <th>Unnamed: 0</th>\n",
       "      <th>Deforestation (1000 ha/year)</th>\n",
       "      <th>Deforestation (1000 ha/year).1</th>\n",
       "      <th>Deforestation (1000 ha/year).2</th>\n",
       "      <th>Deforestation (1000 ha/year).3</th>\n",
       "    </tr>\n",
       "  </thead>\n",
       "  <tbody>\n",
       "    <tr>\n",
       "      <th>0</th>\n",
       "      <td>NaN</td>\n",
       "      <td>1990-2000</td>\n",
       "      <td>2000-2010</td>\n",
       "      <td>2010-2015</td>\n",
       "      <td>2015-2020</td>\n",
       "    </tr>\n",
       "    <tr>\n",
       "      <th>1</th>\n",
       "      <td>Afghanistan</td>\n",
       "      <td>NaN</td>\n",
       "      <td>NaN</td>\n",
       "      <td>NaN</td>\n",
       "      <td>NaN</td>\n",
       "    </tr>\n",
       "    <tr>\n",
       "      <th>2</th>\n",
       "      <td>Albania (Desk study)</td>\n",
       "      <td>NaN</td>\n",
       "      <td>NaN</td>\n",
       "      <td>NaN</td>\n",
       "      <td>NaN</td>\n",
       "    </tr>\n",
       "    <tr>\n",
       "      <th>3</th>\n",
       "      <td>Algeria</td>\n",
       "      <td>14.80</td>\n",
       "      <td>14.50</td>\n",
       "      <td>1.40</td>\n",
       "      <td>5.40</td>\n",
       "    </tr>\n",
       "    <tr>\n",
       "      <th>4</th>\n",
       "      <td>American Samoa</td>\n",
       "      <td>NaN</td>\n",
       "      <td>NaN</td>\n",
       "      <td>NaN</td>\n",
       "      <td>NaN</td>\n",
       "    </tr>\n",
       "  </tbody>\n",
       "</table>\n",
       "</div>"
      ],
      "text/plain": [
       "             Unnamed: 0 Deforestation (1000 ha/year)  \\\n",
       "0                   NaN                    1990-2000   \n",
       "1           Afghanistan                          NaN   \n",
       "2  Albania (Desk study)                          NaN   \n",
       "3               Algeria                        14.80   \n",
       "4        American Samoa                          NaN   \n",
       "\n",
       "  Deforestation (1000 ha/year).1 Deforestation (1000 ha/year).2  \\\n",
       "0                      2000-2010                      2010-2015   \n",
       "1                            NaN                            NaN   \n",
       "2                            NaN                            NaN   \n",
       "3                          14.50                           1.40   \n",
       "4                            NaN                            NaN   \n",
       "\n",
       "  Deforestation (1000 ha/year).3  \n",
       "0                      2015-2020  \n",
       "1                            NaN  \n",
       "2                            NaN  \n",
       "3                           5.40  \n",
       "4                            NaN  "
      ]
     },
     "execution_count": 2,
     "metadata": {},
     "output_type": "execute_result"
    }
   ],
   "source": [
    "# establishing path and reading Forest Area Change data into pandas\n",
    "fachange_df = pd.read_csv(r\"C:/Users/abrow/Desktop/EMERSON_BOOTCAMP/BOOTCAMP_AMB/Project_3/Project-3-Global-Warming/Data/Deforestation/fra2020-forestAreaChange.csv\")\n",
    "fachange_df.head()"
   ]
  },
  {
   "cell_type": "code",
   "execution_count": 3,
   "id": "aba1aea4",
   "metadata": {},
   "outputs": [
    {
     "data": {
      "text/html": [
       "<div>\n",
       "<style scoped>\n",
       "    .dataframe tbody tr th:only-of-type {\n",
       "        vertical-align: middle;\n",
       "    }\n",
       "\n",
       "    .dataframe tbody tr th {\n",
       "        vertical-align: top;\n",
       "    }\n",
       "\n",
       "    .dataframe thead th {\n",
       "        text-align: right;\n",
       "    }\n",
       "</style>\n",
       "<table border=\"1\" class=\"dataframe\">\n",
       "  <thead>\n",
       "    <tr style=\"text-align: right;\">\n",
       "      <th></th>\n",
       "      <th>Entity</th>\n",
       "      <th>1990-2000 Deforestation (1000 ha/year)</th>\n",
       "      <th>2000-2010 Deforestation (1000 ha/year)</th>\n",
       "      <th>2010-2015 Deforestation (1000 ha/year)</th>\n",
       "      <th>2015-2020 Deforestation (1000 ha/year)</th>\n",
       "    </tr>\n",
       "  </thead>\n",
       "  <tbody>\n",
       "    <tr>\n",
       "      <th>0</th>\n",
       "      <td>NaN</td>\n",
       "      <td>1990-2000</td>\n",
       "      <td>2000-2010</td>\n",
       "      <td>2010-2015</td>\n",
       "      <td>2015-2020</td>\n",
       "    </tr>\n",
       "    <tr>\n",
       "      <th>1</th>\n",
       "      <td>Afghanistan</td>\n",
       "      <td>NaN</td>\n",
       "      <td>NaN</td>\n",
       "      <td>NaN</td>\n",
       "      <td>NaN</td>\n",
       "    </tr>\n",
       "    <tr>\n",
       "      <th>2</th>\n",
       "      <td>Albania (Desk study)</td>\n",
       "      <td>NaN</td>\n",
       "      <td>NaN</td>\n",
       "      <td>NaN</td>\n",
       "      <td>NaN</td>\n",
       "    </tr>\n",
       "    <tr>\n",
       "      <th>3</th>\n",
       "      <td>Algeria</td>\n",
       "      <td>14.80</td>\n",
       "      <td>14.50</td>\n",
       "      <td>1.40</td>\n",
       "      <td>5.40</td>\n",
       "    </tr>\n",
       "    <tr>\n",
       "      <th>4</th>\n",
       "      <td>American Samoa</td>\n",
       "      <td>NaN</td>\n",
       "      <td>NaN</td>\n",
       "      <td>NaN</td>\n",
       "      <td>NaN</td>\n",
       "    </tr>\n",
       "  </tbody>\n",
       "</table>\n",
       "</div>"
      ],
      "text/plain": [
       "                 Entity 1990-2000 Deforestation (1000 ha/year)  \\\n",
       "0                   NaN                              1990-2000   \n",
       "1           Afghanistan                                    NaN   \n",
       "2  Albania (Desk study)                                    NaN   \n",
       "3               Algeria                                  14.80   \n",
       "4        American Samoa                                    NaN   \n",
       "\n",
       "  2000-2010 Deforestation (1000 ha/year)  \\\n",
       "0                              2000-2010   \n",
       "1                                    NaN   \n",
       "2                                    NaN   \n",
       "3                                  14.50   \n",
       "4                                    NaN   \n",
       "\n",
       "  2010-2015 Deforestation (1000 ha/year)  \\\n",
       "0                              2010-2015   \n",
       "1                                    NaN   \n",
       "2                                    NaN   \n",
       "3                                   1.40   \n",
       "4                                    NaN   \n",
       "\n",
       "  2015-2020 Deforestation (1000 ha/year)  \n",
       "0                              2015-2020  \n",
       "1                                    NaN  \n",
       "2                                    NaN  \n",
       "3                                   5.40  \n",
       "4                                    NaN  "
      ]
     },
     "execution_count": 3,
     "metadata": {},
     "output_type": "execute_result"
    }
   ],
   "source": [
    "# Renaming the Columns\n",
    "fachange_df.columns = ['Entity', '1990-2000 Deforestation (1000 ha/year)', '2000-2010 Deforestation (1000 ha/year)', '2010-2015 Deforestation (1000 ha/year)', '2015-2020 Deforestation (1000 ha/year)']\n",
    "fachange_df.head()"
   ]
  },
  {
   "cell_type": "code",
   "execution_count": 4,
   "id": "7368b9be",
   "metadata": {},
   "outputs": [
    {
     "data": {
      "text/plain": [
       "Entity                                    object\n",
       "1990-2000 Deforestation (1000 ha/year)    object\n",
       "2000-2010 Deforestation (1000 ha/year)    object\n",
       "2010-2015 Deforestation (1000 ha/year)    object\n",
       "2015-2020 Deforestation (1000 ha/year)    object\n",
       "dtype: object"
      ]
     },
     "execution_count": 4,
     "metadata": {},
     "output_type": "execute_result"
    }
   ],
   "source": [
    "# getting the data types for the dataframe\n",
    "fachange_df.dtypes"
   ]
  },
  {
   "cell_type": "code",
   "execution_count": 5,
   "id": "0373b507",
   "metadata": {},
   "outputs": [
    {
     "data": {
      "text/plain": [
       "239"
      ]
     },
     "execution_count": 5,
     "metadata": {},
     "output_type": "execute_result"
    }
   ],
   "source": [
    "#Getting the length of the dataframe\n",
    "len(fachange_df)"
   ]
  },
  {
   "cell_type": "code",
   "execution_count": 6,
   "id": "4854fd06",
   "metadata": {},
   "outputs": [],
   "source": [
    "# Dropping the first row of the data frame that contained the years for each series\n",
    "fachange_df.drop(index=fachange_df.index[0], axis=0, inplace=True)"
   ]
  },
  {
   "cell_type": "code",
   "execution_count": 7,
   "id": "c24f53aa",
   "metadata": {},
   "outputs": [
    {
     "data": {
      "text/html": [
       "<div>\n",
       "<style scoped>\n",
       "    .dataframe tbody tr th:only-of-type {\n",
       "        vertical-align: middle;\n",
       "    }\n",
       "\n",
       "    .dataframe tbody tr th {\n",
       "        vertical-align: top;\n",
       "    }\n",
       "\n",
       "    .dataframe thead th {\n",
       "        text-align: right;\n",
       "    }\n",
       "</style>\n",
       "<table border=\"1\" class=\"dataframe\">\n",
       "  <thead>\n",
       "    <tr style=\"text-align: right;\">\n",
       "      <th></th>\n",
       "      <th>Entity</th>\n",
       "      <th>1990-2000 Deforestation (1000 ha/year)</th>\n",
       "      <th>2000-2010 Deforestation (1000 ha/year)</th>\n",
       "      <th>2010-2015 Deforestation (1000 ha/year)</th>\n",
       "      <th>2015-2020 Deforestation (1000 ha/year)</th>\n",
       "    </tr>\n",
       "  </thead>\n",
       "  <tbody>\n",
       "    <tr>\n",
       "      <th>1</th>\n",
       "      <td>Afghanistan</td>\n",
       "      <td>NaN</td>\n",
       "      <td>NaN</td>\n",
       "      <td>NaN</td>\n",
       "      <td>NaN</td>\n",
       "    </tr>\n",
       "    <tr>\n",
       "      <th>2</th>\n",
       "      <td>Albania (Desk study)</td>\n",
       "      <td>NaN</td>\n",
       "      <td>NaN</td>\n",
       "      <td>NaN</td>\n",
       "      <td>NaN</td>\n",
       "    </tr>\n",
       "    <tr>\n",
       "      <th>3</th>\n",
       "      <td>Algeria</td>\n",
       "      <td>14.80</td>\n",
       "      <td>14.50</td>\n",
       "      <td>1.40</td>\n",
       "      <td>5.40</td>\n",
       "    </tr>\n",
       "    <tr>\n",
       "      <th>4</th>\n",
       "      <td>American Samoa</td>\n",
       "      <td>NaN</td>\n",
       "      <td>NaN</td>\n",
       "      <td>NaN</td>\n",
       "      <td>NaN</td>\n",
       "    </tr>\n",
       "    <tr>\n",
       "      <th>5</th>\n",
       "      <td>Andorra</td>\n",
       "      <td>NaN</td>\n",
       "      <td>NaN</td>\n",
       "      <td>NaN</td>\n",
       "      <td>NaN</td>\n",
       "    </tr>\n",
       "  </tbody>\n",
       "</table>\n",
       "</div>"
      ],
      "text/plain": [
       "                 Entity 1990-2000 Deforestation (1000 ha/year)  \\\n",
       "1           Afghanistan                                    NaN   \n",
       "2  Albania (Desk study)                                    NaN   \n",
       "3               Algeria                                  14.80   \n",
       "4        American Samoa                                    NaN   \n",
       "5               Andorra                                    NaN   \n",
       "\n",
       "  2000-2010 Deforestation (1000 ha/year)  \\\n",
       "1                                    NaN   \n",
       "2                                    NaN   \n",
       "3                                  14.50   \n",
       "4                                    NaN   \n",
       "5                                    NaN   \n",
       "\n",
       "  2010-2015 Deforestation (1000 ha/year)  \\\n",
       "1                                    NaN   \n",
       "2                                    NaN   \n",
       "3                                   1.40   \n",
       "4                                    NaN   \n",
       "5                                    NaN   \n",
       "\n",
       "  2015-2020 Deforestation (1000 ha/year)  \n",
       "1                                    NaN  \n",
       "2                                    NaN  \n",
       "3                                   5.40  \n",
       "4                                    NaN  \n",
       "5                                    NaN  "
      ]
     },
     "execution_count": 7,
     "metadata": {},
     "output_type": "execute_result"
    }
   ],
   "source": [
    "#Verifying that the row was dropped\n",
    "fachange_df.head()"
   ]
  },
  {
   "cell_type": "code",
   "execution_count": 8,
   "id": "234d8a5c",
   "metadata": {},
   "outputs": [],
   "source": [
    "# Taking only the rows that have complete data entries for 1990-2000\n",
    "no_nan_fachange = fachange_df[fachange_df['1990-2000 Deforestation (1000 ha/year)'].notna()]"
   ]
  },
  {
   "cell_type": "code",
   "execution_count": 9,
   "id": "a0527361",
   "metadata": {},
   "outputs": [],
   "source": [
    "# Taking only the rows that have complete data entries for 2000-2010\n",
    "no_2nan_fachange = no_nan_fachange[no_nan_fachange['2000-2010 Deforestation (1000 ha/year)'].notna()]"
   ]
  },
  {
   "cell_type": "code",
   "execution_count": 10,
   "id": "eca79886",
   "metadata": {},
   "outputs": [],
   "source": [
    "# Taking only the rows that have complete data entries for 2010-2015\n",
    "no_3nan_fachange = no_2nan_fachange[no_2nan_fachange['2010-2015 Deforestation (1000 ha/year)'].notna()]"
   ]
  },
  {
   "cell_type": "code",
   "execution_count": 11,
   "id": "37af6c4d",
   "metadata": {},
   "outputs": [],
   "source": [
    "clean_fachange_df = no_3nan_fachange[no_3nan_fachange['2015-2020 Deforestation (1000 ha/year)'].notna()]"
   ]
  },
  {
   "cell_type": "code",
   "execution_count": 13,
   "id": "21814da2",
   "metadata": {},
   "outputs": [
    {
     "data": {
      "text/plain": [
       "112"
      ]
     },
     "execution_count": 13,
     "metadata": {},
     "output_type": "execute_result"
    }
   ],
   "source": [
    "# Checking to see if it worked, and if it did, what we're left with... STILL OVER 100 DATA ENTRIES LET'S GOOOOOOO!!!\n",
    "len(clean_fachange_df)"
   ]
  },
  {
   "cell_type": "code",
   "execution_count": 14,
   "id": "6132b3c8",
   "metadata": {},
   "outputs": [
    {
     "data": {
      "text/html": [
       "<div>\n",
       "<style scoped>\n",
       "    .dataframe tbody tr th:only-of-type {\n",
       "        vertical-align: middle;\n",
       "    }\n",
       "\n",
       "    .dataframe tbody tr th {\n",
       "        vertical-align: top;\n",
       "    }\n",
       "\n",
       "    .dataframe thead th {\n",
       "        text-align: right;\n",
       "    }\n",
       "</style>\n",
       "<table border=\"1\" class=\"dataframe\">\n",
       "  <thead>\n",
       "    <tr style=\"text-align: right;\">\n",
       "      <th></th>\n",
       "      <th>Entity</th>\n",
       "      <th>1990-2000 Deforestation (1000 ha/year)</th>\n",
       "      <th>2000-2010 Deforestation (1000 ha/year)</th>\n",
       "      <th>2010-2015 Deforestation (1000 ha/year)</th>\n",
       "      <th>2015-2020 Deforestation (1000 ha/year)</th>\n",
       "    </tr>\n",
       "  </thead>\n",
       "  <tbody>\n",
       "    <tr>\n",
       "      <th>3</th>\n",
       "      <td>Algeria</td>\n",
       "      <td>14.80</td>\n",
       "      <td>14.50</td>\n",
       "      <td>1.40</td>\n",
       "      <td>5.40</td>\n",
       "    </tr>\n",
       "    <tr>\n",
       "      <th>9</th>\n",
       "      <td>Argentina</td>\n",
       "      <td>213.60</td>\n",
       "      <td>327.40</td>\n",
       "      <td>242.40</td>\n",
       "      <td>134.80</td>\n",
       "    </tr>\n",
       "    <tr>\n",
       "      <th>11</th>\n",
       "      <td>Aruba (Desk study)</td>\n",
       "      <td>0.00</td>\n",
       "      <td>0.00</td>\n",
       "      <td>0.00</td>\n",
       "      <td>0.00</td>\n",
       "    </tr>\n",
       "    <tr>\n",
       "      <th>13</th>\n",
       "      <td>Austria</td>\n",
       "      <td>3.45</td>\n",
       "      <td>7.79</td>\n",
       "      <td>5.80</td>\n",
       "      <td>5.81</td>\n",
       "    </tr>\n",
       "    <tr>\n",
       "      <th>16</th>\n",
       "      <td>Bahrain (Desk study)</td>\n",
       "      <td>0.01</td>\n",
       "      <td>0.01</td>\n",
       "      <td>0.00</td>\n",
       "      <td>0.00</td>\n",
       "    </tr>\n",
       "  </tbody>\n",
       "</table>\n",
       "</div>"
      ],
      "text/plain": [
       "                  Entity 1990-2000 Deforestation (1000 ha/year)  \\\n",
       "3                Algeria                                  14.80   \n",
       "9              Argentina                                 213.60   \n",
       "11    Aruba (Desk study)                                   0.00   \n",
       "13               Austria                                   3.45   \n",
       "16  Bahrain (Desk study)                                   0.01   \n",
       "\n",
       "   2000-2010 Deforestation (1000 ha/year)  \\\n",
       "3                                   14.50   \n",
       "9                                  327.40   \n",
       "11                                   0.00   \n",
       "13                                   7.79   \n",
       "16                                   0.01   \n",
       "\n",
       "   2010-2015 Deforestation (1000 ha/year)  \\\n",
       "3                                    1.40   \n",
       "9                                  242.40   \n",
       "11                                   0.00   \n",
       "13                                   5.80   \n",
       "16                                   0.00   \n",
       "\n",
       "   2015-2020 Deforestation (1000 ha/year)  \n",
       "3                                    5.40  \n",
       "9                                  134.80  \n",
       "11                                   0.00  \n",
       "13                                   5.81  \n",
       "16                                   0.00  "
      ]
     },
     "execution_count": 14,
     "metadata": {},
     "output_type": "execute_result"
    }
   ],
   "source": [
    "# Let's take a peek at this beautiful datachild \n",
    "clean_fachange_df.head()"
   ]
  },
  {
   "cell_type": "code",
   "execution_count": null,
   "id": "5f49e7f6",
   "metadata": {},
   "outputs": [],
   "source": [
    "#creating the connection to our SQL database\n",
    "rds_connection_string = \"postgres:93AImm!2020@localhost:5432/deforestation_db\"\n",
    "engine = create_engine(f'postgresql://{rds_connection_string}')"
   ]
  },
  {
   "cell_type": "code",
   "execution_count": null,
   "id": "cf327ee7",
   "metadata": {},
   "outputs": [],
   "source": [
    "engine.table_names()"
   ]
  },
  {
   "cell_type": "code",
   "execution_count": null,
   "id": "f4778ed1",
   "metadata": {},
   "outputs": [],
   "source": [
    "# Fullsend to PostGres\n",
    "clean_fachange_df.to_sql(name='', con=engine, if_exists='append', index=False)"
   ]
  }
 ],
 "metadata": {
  "kernelspec": {
   "display_name": "Python 3",
   "language": "python",
   "name": "python3"
  },
  "language_info": {
   "codemirror_mode": {
    "name": "ipython",
    "version": 3
   },
   "file_extension": ".py",
   "mimetype": "text/x-python",
   "name": "python",
   "nbconvert_exporter": "python",
   "pygments_lexer": "ipython3",
   "version": "3.8.8"
  }
 },
 "nbformat": 4,
 "nbformat_minor": 5
}
